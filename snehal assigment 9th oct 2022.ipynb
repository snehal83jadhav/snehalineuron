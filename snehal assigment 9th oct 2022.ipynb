{
 "cells": [
  {
   "cell_type": "code",
   "execution_count": 4,
   "id": "5a631d19",
   "metadata": {},
   "outputs": [
    {
     "name": "stdout",
     "output_type": "stream",
     "text": [
      "largest number= 525\n"
     ]
    }
   ],
   "source": [
    "#Q1. find the largest number from the given list, use for loop\n",
    "\n",
    "number = [12, 75, 150, 180, 145, 525, 50]\n",
    "largest=number[0]\n",
    "for i in number:\n",
    "    if i>largest:\n",
    "        largest =i\n",
    "print(\"largest number=\",largest)        "
   ]
  },
  {
   "cell_type": "code",
   "execution_count": 12,
   "id": "9a765669",
   "metadata": {},
   "outputs": [
    {
     "name": "stdout",
     "output_type": "stream",
     "text": [
      "2\n",
      "4\n",
      "6\n",
      "8\n",
      "10\n",
      "12\n"
     ]
    }
   ],
   "source": [
    "# Q2. Print all even numbers between (1, 12)\n",
    "i=1\n",
    "n=12+1\n",
    "for i in range(i,n):\n",
    "    if i%2==0:\n",
    "        print(i)"
   ]
  },
  {
   "cell_type": "code",
   "execution_count": 22,
   "id": "fafba6fe",
   "metadata": {},
   "outputs": [
    {
     "name": "stdout",
     "output_type": "stream",
     "text": [
      "Enter the n number5\n",
      "sum =  15\n"
     ]
    }
   ],
   "source": [
    "# Q3. Calculate the sum of all numbers from 1 to a given number\n",
    "i=1\n",
    "sum=0\n",
    "n=int(input(\"Enter the n number\"))\n",
    "for i in range(i,n+1):\n",
    "    sum=sum+i\n",
    "print(\"sum = \",sum)    \n",
    "    \n",
    "    \n"
   ]
  },
  {
   "cell_type": "code",
   "execution_count": 35,
   "id": "15dd21f1",
   "metadata": {},
   "outputs": [
    {
     "name": "stdout",
     "output_type": "stream",
     "text": [
      "INPUT LIST [10, 20, 30, 40, 50]\n",
      "OUTPUT LIST [50, 40, 30, 20, 10]\n"
     ]
    }
   ],
   "source": [
    "#Q4. Print the given list in reverse order\n",
    "list1=[10,20,30,40,50]\n",
    "print(\"INPUT LIST\",list1)\n",
    "list1.reverse()\n",
    "print(\"OUTPUT LIST\",list1)\n",
    "    "
   ]
  },
  {
   "cell_type": "code",
   "execution_count": 52,
   "id": "966ca10c",
   "metadata": {},
   "outputs": [
    {
     "name": "stdout",
     "output_type": "stream",
     "text": [
      "75\n",
      "150\n",
      "180\n",
      "145\n",
      "525\n",
      "50\n",
      "*********\n",
      "12\n",
      "75\n",
      "150\n",
      "145\n",
      "50\n",
      "*********\n",
      "12\n",
      "75\n",
      "150\n",
      "180\n",
      "145\n"
     ]
    }
   ],
   "source": [
    "number = [12, 75, 150, 180, 145, 525, 50]\n",
    "\n",
    "for num in number:\n",
    "    if num%5==0:\n",
    "        print(num) \n",
    "print(\"*********\")\n",
    "for num in number:\n",
    "    if num>150:\n",
    "        continue\n",
    "    print(num)\n",
    "print(\"*********\")    \n",
    "for num in number:\n",
    "    if num>=500:\n",
    "        break\n",
    "    print(num)    \n",
    "        "
   ]
  },
  {
   "cell_type": "code",
   "execution_count": null,
   "id": "5c6dbd72",
   "metadata": {},
   "outputs": [],
   "source": []
  },
  {
   "cell_type": "code",
   "execution_count": null,
   "id": "1690a3f1",
   "metadata": {},
   "outputs": [],
   "source": []
  }
 ],
 "metadata": {
  "kernelspec": {
   "display_name": "Python 3 (ipykernel)",
   "language": "python",
   "name": "python3"
  },
  "language_info": {
   "codemirror_mode": {
    "name": "ipython",
    "version": 3
   },
   "file_extension": ".py",
   "mimetype": "text/x-python",
   "name": "python",
   "nbconvert_exporter": "python",
   "pygments_lexer": "ipython3",
   "version": "3.9.12"
  }
 },
 "nbformat": 4,
 "nbformat_minor": 5
}
